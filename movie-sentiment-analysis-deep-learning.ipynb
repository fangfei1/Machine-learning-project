{
 "cells": [
  {
   "cell_type": "markdown",
   "metadata": {
    "papermill": {
     "duration": 0.045043,
     "end_time": "2020-09-11T20:28:21.333830",
     "exception": false,
     "start_time": "2020-09-11T20:28:21.288787",
     "status": "completed"
    },
    "tags": []
   },
   "source": [
    "# Movie sentiment analysis\n",
    "\n",
    "**Data:**\n",
    "\n",
    "The data source is Movie Sentiment project from Kaggle, including train and test datasets; In trainning data, there is a Phrase column and a Sentiment column as the result score from 0 to 4 (negative to positve); In test data, there is a Phrase column for us to analyze the sentiment of each phrase.\n",
    "\n",
    "**Goal:**\n",
    "\n",
    "\n",
    "Perform different deep learning models (ANN, CNN, RNN-LSTM) in NLP analysis on trainning data and compare model performances, and predict Phrase sentiment on test data. \n",
    "\n",
    "**Highlight:** \n",
    "\n",
    "- **Show how to prepare data for deep learning in NLP analysis**\n",
    "- **Compare different deep learning models in NLP analysis**\n",
    "\n",
    "**Reference**\n",
    "\n",
    "Kaggel notebook: https://www.kaggle.com/chiranjeevbit/movie-review-prediction\n",
    "\n",
    "\n",
    "Tensorflow helpfile: https://www.tensorflow.org/tutorials/structured_data/imbalanced_data"
   ]
  },
  {
   "cell_type": "markdown",
   "metadata": {
    "papermill": {
     "duration": 0.042027,
     "end_time": "2020-09-11T20:28:21.418120",
     "exception": false,
     "start_time": "2020-09-11T20:28:21.376093",
     "status": "completed"
    },
    "tags": []
   },
   "source": [
    "## Explore Data Analysis"
   ]
  },
  {
   "cell_type": "code",
   "execution_count": 1,
   "metadata": {
    "execution": {
     "iopub.execute_input": "2020-09-11T20:28:21.511376Z",
     "iopub.status.busy": "2020-09-11T20:28:21.509705Z",
     "iopub.status.idle": "2020-09-11T20:28:22.630325Z",
     "shell.execute_reply": "2020-09-11T20:28:22.629515Z"
    },
    "id": "9OEGn4IcrC0G",
    "outputId": "7a24d255-3eba-48bd-f11e-695cfa5fbbff",
    "papermill": {
     "duration": 1.170593,
     "end_time": "2020-09-11T20:28:22.630464",
     "exception": false,
     "start_time": "2020-09-11T20:28:21.459871",
     "status": "completed"
    },
    "tags": []
   },
   "outputs": [],
   "source": [
    "## Import basic packages\n",
    "import pandas as pd\n",
    "import numpy as np\n",
    "import matplotlib.pyplot as plt\n",
    "import seaborn as sns"
   ]
  },
  {
   "cell_type": "code",
   "execution_count": 2,
   "metadata": {
    "execution": {
     "iopub.execute_input": "2020-09-11T20:28:22.725770Z",
     "iopub.status.busy": "2020-09-11T20:28:22.724592Z",
     "iopub.status.idle": "2020-09-11T20:28:22.731906Z",
     "shell.execute_reply": "2020-09-11T20:28:22.732884Z"
    },
    "papermill": {
     "duration": 0.058116,
     "end_time": "2020-09-11T20:28:22.733104",
     "exception": false,
     "start_time": "2020-09-11T20:28:22.674988",
     "status": "completed"
    },
    "tags": []
   },
   "outputs": [
    {
     "name": "stdout",
     "output_type": "stream",
     "text": [
      "/kaggle/input/glove-50d/glove.6B.50d.txt\n",
      "/kaggle/input/sentiment-analysis-on-movie-reviews/train.tsv.zip\n",
      "/kaggle/input/sentiment-analysis-on-movie-reviews/sampleSubmission.csv\n",
      "/kaggle/input/sentiment-analysis-on-movie-reviews/test.tsv.zip\n"
     ]
    }
   ],
   "source": [
    "import os\n",
    "for dirname, _, filenames in os.walk('/kaggle/input'):\n",
    "    for filename in filenames:\n",
    "        print(os.path.join(dirname, filename))"
   ]
  },
  {
   "cell_type": "code",
   "execution_count": 3,
   "metadata": {
    "execution": {
     "iopub.execute_input": "2020-09-11T20:28:22.839713Z",
     "iopub.status.busy": "2020-09-11T20:28:22.838818Z",
     "iopub.status.idle": "2020-09-11T20:28:23.218306Z",
     "shell.execute_reply": "2020-09-11T20:28:23.216536Z"
    },
    "id": "414dbmWhpuVL",
    "papermill": {
     "duration": 0.439953,
     "end_time": "2020-09-11T20:28:23.218441",
     "exception": false,
     "start_time": "2020-09-11T20:28:22.778488",
     "status": "completed"
    },
    "tags": []
   },
   "outputs": [],
   "source": [
    "## Read data\n",
    "train = pd.read_csv('/kaggle/input/sentiment-analysis-on-movie-reviews/train.tsv.zip',sep=\"\\t\") \n",
    "test = pd.read_csv('/kaggle/input/sentiment-analysis-on-movie-reviews/test.tsv.zip',sep=\"\\t\") "
   ]
  },
  {
   "cell_type": "code",
   "execution_count": 4,
   "metadata": {
    "execution": {
     "iopub.execute_input": "2020-09-11T20:28:23.321973Z",
     "iopub.status.busy": "2020-09-11T20:28:23.320695Z",
     "iopub.status.idle": "2020-09-11T20:28:23.332159Z",
     "shell.execute_reply": "2020-09-11T20:28:23.331512Z"
    },
    "id": "Tukjv_vSrC0V",
    "outputId": "4060c34e-6cb1-4a74-94ff-403a4c2f0542",
    "papermill": {
     "duration": 0.070032,
     "end_time": "2020-09-11T20:28:23.332282",
     "exception": false,
     "start_time": "2020-09-11T20:28:23.262250",
     "status": "completed"
    },
    "tags": []
   },
   "outputs": [
    {
     "data": {
      "text/html": [
       "<div>\n",
       "<style scoped>\n",
       "    .dataframe tbody tr th:only-of-type {\n",
       "        vertical-align: middle;\n",
       "    }\n",
       "\n",
       "    .dataframe tbody tr th {\n",
       "        vertical-align: top;\n",
       "    }\n",
       "\n",
       "    .dataframe thead th {\n",
       "        text-align: right;\n",
       "    }\n",
       "</style>\n",
       "<table border=\"1\" class=\"dataframe\">\n",
       "  <thead>\n",
       "    <tr style=\"text-align: right;\">\n",
       "      <th></th>\n",
       "      <th>PhraseId</th>\n",
       "      <th>SentenceId</th>\n",
       "      <th>Phrase</th>\n",
       "      <th>Sentiment</th>\n",
       "    </tr>\n",
       "  </thead>\n",
       "  <tbody>\n",
       "    <tr>\n",
       "      <th>0</th>\n",
       "      <td>1</td>\n",
       "      <td>1</td>\n",
       "      <td>A series of escapades demonstrating the adage ...</td>\n",
       "      <td>1</td>\n",
       "    </tr>\n",
       "    <tr>\n",
       "      <th>1</th>\n",
       "      <td>2</td>\n",
       "      <td>1</td>\n",
       "      <td>A series of escapades demonstrating the adage ...</td>\n",
       "      <td>2</td>\n",
       "    </tr>\n",
       "    <tr>\n",
       "      <th>2</th>\n",
       "      <td>3</td>\n",
       "      <td>1</td>\n",
       "      <td>A series</td>\n",
       "      <td>2</td>\n",
       "    </tr>\n",
       "    <tr>\n",
       "      <th>3</th>\n",
       "      <td>4</td>\n",
       "      <td>1</td>\n",
       "      <td>A</td>\n",
       "      <td>2</td>\n",
       "    </tr>\n",
       "    <tr>\n",
       "      <th>4</th>\n",
       "      <td>5</td>\n",
       "      <td>1</td>\n",
       "      <td>series</td>\n",
       "      <td>2</td>\n",
       "    </tr>\n",
       "  </tbody>\n",
       "</table>\n",
       "</div>"
      ],
      "text/plain": [
       "   PhraseId  SentenceId                                             Phrase  \\\n",
       "0         1           1  A series of escapades demonstrating the adage ...   \n",
       "1         2           1  A series of escapades demonstrating the adage ...   \n",
       "2         3           1                                           A series   \n",
       "3         4           1                                                  A   \n",
       "4         5           1                                             series   \n",
       "\n",
       "   Sentiment  \n",
       "0          1  \n",
       "1          2  \n",
       "2          2  \n",
       "3          2  \n",
       "4          2  "
      ]
     },
     "execution_count": 4,
     "metadata": {},
     "output_type": "execute_result"
    }
   ],
   "source": [
    "train.head()"
   ]
  },
  {
   "cell_type": "code",
   "execution_count": 5,
   "metadata": {
    "execution": {
     "iopub.execute_input": "2020-09-11T20:28:23.435373Z",
     "iopub.status.busy": "2020-09-11T20:28:23.434215Z",
     "iopub.status.idle": "2020-09-11T20:28:23.438809Z",
     "shell.execute_reply": "2020-09-11T20:28:23.439529Z"
    },
    "id": "8Sm9i2gGrC0e",
    "outputId": "52a4e29c-0bf3-40f4-8d47-1c53d3b1cccb",
    "papermill": {
     "duration": 0.063261,
     "end_time": "2020-09-11T20:28:23.439709",
     "exception": false,
     "start_time": "2020-09-11T20:28:23.376448",
     "status": "completed"
    },
    "tags": []
   },
   "outputs": [
    {
     "data": {
      "text/html": [
       "<div>\n",
       "<style scoped>\n",
       "    .dataframe tbody tr th:only-of-type {\n",
       "        vertical-align: middle;\n",
       "    }\n",
       "\n",
       "    .dataframe tbody tr th {\n",
       "        vertical-align: top;\n",
       "    }\n",
       "\n",
       "    .dataframe thead th {\n",
       "        text-align: right;\n",
       "    }\n",
       "</style>\n",
       "<table border=\"1\" class=\"dataframe\">\n",
       "  <thead>\n",
       "    <tr style=\"text-align: right;\">\n",
       "      <th></th>\n",
       "      <th>PhraseId</th>\n",
       "      <th>SentenceId</th>\n",
       "      <th>Phrase</th>\n",
       "    </tr>\n",
       "  </thead>\n",
       "  <tbody>\n",
       "    <tr>\n",
       "      <th>0</th>\n",
       "      <td>156061</td>\n",
       "      <td>8545</td>\n",
       "      <td>An intermittently pleasing but mostly routine ...</td>\n",
       "    </tr>\n",
       "    <tr>\n",
       "      <th>1</th>\n",
       "      <td>156062</td>\n",
       "      <td>8545</td>\n",
       "      <td>An intermittently pleasing but mostly routine ...</td>\n",
       "    </tr>\n",
       "    <tr>\n",
       "      <th>2</th>\n",
       "      <td>156063</td>\n",
       "      <td>8545</td>\n",
       "      <td>An</td>\n",
       "    </tr>\n",
       "    <tr>\n",
       "      <th>3</th>\n",
       "      <td>156064</td>\n",
       "      <td>8545</td>\n",
       "      <td>intermittently pleasing but mostly routine effort</td>\n",
       "    </tr>\n",
       "    <tr>\n",
       "      <th>4</th>\n",
       "      <td>156065</td>\n",
       "      <td>8545</td>\n",
       "      <td>intermittently pleasing but mostly routine</td>\n",
       "    </tr>\n",
       "  </tbody>\n",
       "</table>\n",
       "</div>"
      ],
      "text/plain": [
       "   PhraseId  SentenceId                                             Phrase\n",
       "0    156061        8545  An intermittently pleasing but mostly routine ...\n",
       "1    156062        8545  An intermittently pleasing but mostly routine ...\n",
       "2    156063        8545                                                 An\n",
       "3    156064        8545  intermittently pleasing but mostly routine effort\n",
       "4    156065        8545         intermittently pleasing but mostly routine"
      ]
     },
     "execution_count": 5,
     "metadata": {},
     "output_type": "execute_result"
    }
   ],
   "source": [
    "test.head()"
   ]
  },
  {
   "cell_type": "code",
   "execution_count": 6,
   "metadata": {
    "execution": {
     "iopub.execute_input": "2020-09-11T20:28:23.541057Z",
     "iopub.status.busy": "2020-09-11T20:28:23.540134Z",
     "iopub.status.idle": "2020-09-11T20:28:23.551402Z",
     "shell.execute_reply": "2020-09-11T20:28:23.552013Z"
    },
    "id": "XGTDMIHvrC0j",
    "outputId": "972d7952-8dfd-41c1-9c11-159dd123428f",
    "papermill": {
     "duration": 0.065415,
     "end_time": "2020-09-11T20:28:23.552165",
     "exception": false,
     "start_time": "2020-09-11T20:28:23.486750",
     "status": "completed"
    },
    "tags": []
   },
   "outputs": [
    {
     "data": {
      "text/plain": [
       "2    79582\n",
       "3    32927\n",
       "1    27273\n",
       "4     9206\n",
       "0     7072\n",
       "Name: Sentiment, dtype: int64"
      ]
     },
     "execution_count": 6,
     "metadata": {},
     "output_type": "execute_result"
    }
   ],
   "source": [
    "train.Sentiment.value_counts()"
   ]
  },
  {
   "cell_type": "code",
   "execution_count": 7,
   "metadata": {
    "execution": {
     "iopub.execute_input": "2020-09-11T20:28:23.676173Z",
     "iopub.status.busy": "2020-09-11T20:28:23.675090Z",
     "iopub.status.idle": "2020-09-11T20:28:23.695170Z",
     "shell.execute_reply": "2020-09-11T20:28:23.696002Z"
    },
    "id": "djS1_CiNrC0o",
    "outputId": "18ec42e4-7cd2-44dd-c933-790cfaed22a1",
    "papermill": {
     "duration": 0.09373,
     "end_time": "2020-09-11T20:28:23.696201",
     "exception": false,
     "start_time": "2020-09-11T20:28:23.602471",
     "status": "completed"
    },
    "tags": []
   },
   "outputs": [
    {
     "name": "stdout",
     "output_type": "stream",
     "text": [
      "<class 'pandas.core.frame.DataFrame'>\n",
      "RangeIndex: 156060 entries, 0 to 156059\n",
      "Data columns (total 4 columns):\n",
      " #   Column      Non-Null Count   Dtype \n",
      "---  ------      --------------   ----- \n",
      " 0   PhraseId    156060 non-null  int64 \n",
      " 1   SentenceId  156060 non-null  int64 \n",
      " 2   Phrase      156060 non-null  object\n",
      " 3   Sentiment   156060 non-null  int64 \n",
      "dtypes: int64(3), object(1)\n",
      "memory usage: 4.8+ MB\n"
     ]
    }
   ],
   "source": [
    "train.info()"
   ]
  },
  {
   "cell_type": "code",
   "execution_count": 8,
   "metadata": {
    "execution": {
     "iopub.execute_input": "2020-09-11T20:28:23.810471Z",
     "iopub.status.busy": "2020-09-11T20:28:23.809575Z",
     "iopub.status.idle": "2020-09-11T20:28:24.179641Z",
     "shell.execute_reply": "2020-09-11T20:28:24.178948Z"
    },
    "papermill": {
     "duration": 0.430004,
     "end_time": "2020-09-11T20:28:24.179783",
     "exception": false,
     "start_time": "2020-09-11T20:28:23.749779",
     "status": "completed"
    },
    "tags": []
   },
   "outputs": [
    {
     "data": {
      "text/plain": [
       "<matplotlib.axes._subplots.AxesSubplot at 0x7fc941cee8d0>"
      ]
     },
     "execution_count": 8,
     "metadata": {},
     "output_type": "execute_result"
    },
    {
     "data": {
      "image/png": "[encoded data removed]",
      "text/plain": [
       "<Figure size 720x360 with 1 Axes>"
      ]
     },
     "metadata": {
      "needs_background": "light"
     },
     "output_type": "display_data"
    }
   ],
   "source": [
    "## Show the number of class distributed\n",
    "plt.figure(figsize=(10,5))\n",
    "ax=plt.axes()\n",
    "ax.set_title('Number of sentiment class')\n",
    "sns.countplot(x=train.Sentiment,data=train)"
   ]
  },
  {
   "cell_type": "markdown",
   "metadata": {
    "id": "3pFF1bSrrC0t",
    "papermill": {
     "duration": 0.052867,
     "end_time": "2020-09-11T20:28:24.285628",
     "exception": false,
     "start_time": "2020-09-11T20:28:24.232761",
     "status": "completed"
    },
    "tags": []
   },
   "source": [
    "## Remove punctuation"
   ]
  },
  {
   "cell_type": "code",
   "execution_count": 9,
   "metadata": {
    "execution": {
     "iopub.execute_input": "2020-09-11T20:28:24.389384Z",
     "iopub.status.busy": "2020-09-11T20:28:24.387840Z",
     "iopub.status.idle": "2020-09-11T20:28:24.394180Z",
     "shell.execute_reply": "2020-09-11T20:28:24.394712Z"
    },
    "id": "JiHq78IirC0u",
    "outputId": "55a6c52a-c2f1-48fc-d77c-716d7dfb617c",
    "papermill": {
     "duration": 0.060897,
     "end_time": "2020-09-11T20:28:24.394870",
     "exception": false,
     "start_time": "2020-09-11T20:28:24.333973",
     "status": "completed"
    },
    "tags": []
   },
   "outputs": [
    {
     "data": {
      "text/plain": [
       "'!\"#$%&\\'()*+,-./:;<=>?@[\\\\]^_`{|}~'"
      ]
     },
     "execution_count": 9,
     "metadata": {},
     "output_type": "execute_result"
    }
   ],
   "source": [
    "import string\n",
    "string.punctuation"
   ]
  },
  {
   "cell_type": "code",
   "execution_count": 10,
   "metadata": {
    "execution": {
     "iopub.execute_input": "2020-09-11T20:28:24.504064Z",
     "iopub.status.busy": "2020-09-11T20:28:24.502889Z",
     "iopub.status.idle": "2020-09-11T20:28:25.511842Z",
     "shell.execute_reply": "2020-09-11T20:28:25.511154Z"
    },
    "id": "gRTbYbkIrC00",
    "papermill": {
     "duration": 1.067255,
     "end_time": "2020-09-11T20:28:25.511967",
     "exception": false,
     "start_time": "2020-09-11T20:28:24.444712",
     "status": "completed"
    },
    "tags": []
   },
   "outputs": [],
   "source": [
    "train['Phrase1']=train.Phrase.apply(lambda x: x.translate(str.maketrans('','',string.punctuation)).lower())\n",
    "test['Phrase1']=test.Phrase.apply(lambda x: x.translate(str.maketrans('','',string.punctuation)).lower())"
   ]
  },
  {
   "cell_type": "code",
   "execution_count": 11,
   "metadata": {
    "execution": {
     "iopub.execute_input": "2020-09-11T20:28:25.621350Z",
     "iopub.status.busy": "2020-09-11T20:28:25.620332Z",
     "iopub.status.idle": "2020-09-11T20:28:25.626652Z",
     "shell.execute_reply": "2020-09-11T20:28:25.626024Z"
    },
    "id": "2imuQXYZrC04",
    "outputId": "4958985a-b359-492b-d962-922ab7431c32",
    "papermill": {
     "duration": 0.06696,
     "end_time": "2020-09-11T20:28:25.626774",
     "exception": false,
     "start_time": "2020-09-11T20:28:25.559814",
     "status": "completed"
    },
    "tags": []
   },
   "outputs": [
    {
     "data": {
      "text/html": [
       "<div>\n",
       "<style scoped>\n",
       "    .dataframe tbody tr th:only-of-type {\n",
       "        vertical-align: middle;\n",
       "    }\n",
       "\n",
       "    .dataframe tbody tr th {\n",
       "        vertical-align: top;\n",
       "    }\n",
       "\n",
       "    .dataframe thead th {\n",
       "        text-align: right;\n",
       "    }\n",
       "</style>\n",
       "<table border=\"1\" class=\"dataframe\">\n",
       "  <thead>\n",
       "    <tr style=\"text-align: right;\">\n",
       "      <th></th>\n",
       "      <th>PhraseId</th>\n",
       "      <th>SentenceId</th>\n",
       "      <th>Phrase</th>\n",
       "      <th>Sentiment</th>\n",
       "      <th>Phrase1</th>\n",
       "    </tr>\n",
       "  </thead>\n",
       "  <tbody>\n",
       "    <tr>\n",
       "      <th>0</th>\n",
       "      <td>1</td>\n",
       "      <td>1</td>\n",
       "      <td>A series of escapades demonstrating the adage ...</td>\n",
       "      <td>1</td>\n",
       "      <td>a series of escapades demonstrating the adage ...</td>\n",
       "    </tr>\n",
       "    <tr>\n",
       "      <th>1</th>\n",
       "      <td>2</td>\n",
       "      <td>1</td>\n",
       "      <td>A series of escapades demonstrating the adage ...</td>\n",
       "      <td>2</td>\n",
       "      <td>a series of escapades demonstrating the adage ...</td>\n",
       "    </tr>\n",
       "    <tr>\n",
       "      <th>2</th>\n",
       "      <td>3</td>\n",
       "      <td>1</td>\n",
       "      <td>A series</td>\n",
       "      <td>2</td>\n",
       "      <td>a series</td>\n",
       "    </tr>\n",
       "    <tr>\n",
       "      <th>3</th>\n",
       "      <td>4</td>\n",
       "      <td>1</td>\n",
       "      <td>A</td>\n",
       "      <td>2</td>\n",
       "      <td>a</td>\n",
       "    </tr>\n",
       "    <tr>\n",
       "      <th>4</th>\n",
       "      <td>5</td>\n",
       "      <td>1</td>\n",
       "      <td>series</td>\n",
       "      <td>2</td>\n",
       "      <td>series</td>\n",
       "    </tr>\n",
       "  </tbody>\n",
       "</table>\n",
       "</div>"
      ],
      "text/plain": [
       "   PhraseId  SentenceId                                             Phrase  \\\n",
       "0         1           1  A series of escapades demonstrating the adage ...   \n",
       "1         2           1  A series of escapades demonstrating the adage ...   \n",
       "2         3           1                                           A series   \n",
       "3         4           1                                                  A   \n",
       "4         5           1                                             series   \n",
       "\n",
       "   Sentiment                                            Phrase1  \n",
       "0          1  a series of escapades demonstrating the adage ...  \n",
       "1          2  a series of escapades demonstrating the adage ...  \n",
       "2          2                                           a series  \n",
       "3          2                                                  a  \n",
       "4          2                                             series  "
      ]
     },
     "execution_count": 11,
     "metadata": {},
     "output_type": "execute_result"
    }
   ],
   "source": [
    "train.head()"
   ]
  },
  {
   "cell_type": "markdown",
   "metadata": {
    "id": "LPfldl2nbc_v",
    "papermill": {
     "duration": 0.060625,
     "end_time": "2020-09-11T20:28:25.736150",
     "exception": false,
     "start_time": "2020-09-11T20:28:25.675525",
     "status": "completed"
    },
    "tags": []
   },
   "source": [
    "## Split train data into train and validation datasets"
   ]
  },
  {
   "cell_type": "code",
   "execution_count": 12,
   "metadata": {
    "execution": {
     "iopub.execute_input": "2020-09-11T20:28:25.908041Z",
     "iopub.status.busy": "2020-09-11T20:28:25.906932Z",
     "iopub.status.idle": "2020-09-11T20:28:25.972743Z",
     "shell.execute_reply": "2020-09-11T20:28:25.973542Z"
    },
    "id": "G5XQRzmYr0OC",
    "papermill": {
     "duration": 0.160739,
     "end_time": "2020-09-11T20:28:25.973779",
     "exception": false,
     "start_time": "2020-09-11T20:28:25.813040",
     "status": "completed"
    },
    "tags": []
   },
   "outputs": [],
   "source": [
    "train_shuffle=train.sample(frac=1, random_state=1)"
   ]
  },
  {
   "cell_type": "code",
   "execution_count": 13,
   "metadata": {
    "execution": {
     "iopub.execute_input": "2020-09-11T20:28:26.123399Z",
     "iopub.status.busy": "2020-09-11T20:28:26.122333Z",
     "iopub.status.idle": "2020-09-11T20:28:26.127853Z",
     "shell.execute_reply": "2020-09-11T20:28:26.128637Z"
    },
    "id": "wXFmE_sefDta",
    "papermill": {
     "duration": 0.084589,
     "end_time": "2020-09-11T20:28:26.128844",
     "exception": false,
     "start_time": "2020-09-11T20:28:26.044255",
     "status": "completed"
    },
    "tags": []
   },
   "outputs": [],
   "source": [
    "split=int(0.7*train.shape[0])\n",
    "train_data=train_shuffle[0:split]\n",
    "valid_data=train_shuffle[split:]"
   ]
  },
  {
   "cell_type": "markdown",
   "metadata": {
    "id": "Ezucon7jrC07",
    "papermill": {
     "duration": 0.074557,
     "end_time": "2020-09-11T20:28:26.280320",
     "exception": false,
     "start_time": "2020-09-11T20:28:26.205763",
     "status": "completed"
    },
    "tags": []
   },
   "source": [
    "## Use Glove for Wordembedding"
   ]
  },
  {
   "cell_type": "code",
   "execution_count": 14,
   "metadata": {
    "execution": {
     "iopub.execute_input": "2020-09-11T20:28:26.454914Z",
     "iopub.status.busy": "2020-09-11T20:28:26.453967Z",
     "iopub.status.idle": "2020-09-11T20:28:38.457037Z",
     "shell.execute_reply": "2020-09-11T20:28:38.455773Z"
    },
    "id": "wCkSfag8rC1F",
    "papermill": {
     "duration": 12.099568,
     "end_time": "2020-09-11T20:28:38.457192",
     "exception": false,
     "start_time": "2020-09-11T20:28:26.357624",
     "status": "completed"
    },
    "tags": []
   },
   "outputs": [],
   "source": [
    "words=set()\n",
    "word_to_vec_map={}\n",
    "with open('/kaggle/input/glove-50d/glove.6B.50d.txt','r',encoding='UTF-8') as f:\n",
    "    for line in f:\n",
    "        value=line.strip().split()\n",
    "        word=value[0]\n",
    "        words.add(word)\n",
    "        word_to_vec_map[word]=np.array(value[1:],dtype=np.float64)"
   ]
  },
  {
   "cell_type": "markdown",
   "metadata": {
    "id": "4kh5prD1rC1I",
    "papermill": {
     "duration": 0.048738,
     "end_time": "2020-09-11T20:28:38.554784",
     "exception": false,
     "start_time": "2020-09-11T20:28:38.506046",
     "status": "completed"
    },
    "tags": []
   },
   "source": [
    "## Data preparation for Modelling"
   ]
  },
  {
   "cell_type": "code",
   "execution_count": 15,
   "metadata": {
    "execution": {
     "iopub.execute_input": "2020-09-11T20:28:38.661642Z",
     "iopub.status.busy": "2020-09-11T20:28:38.660693Z",
     "iopub.status.idle": "2020-09-11T20:28:44.476592Z",
     "shell.execute_reply": "2020-09-11T20:28:44.475928Z"
    },
    "id": "zoiAwYRQrC1J",
    "papermill": {
     "duration": 5.871301,
     "end_time": "2020-09-11T20:28:44.476734",
     "exception": false,
     "start_time": "2020-09-11T20:28:38.605433",
     "status": "completed"
    },
    "tags": []
   },
   "outputs": [],
   "source": [
    "import tensorflow as tf\n",
    "from tensorflow.keras.preprocessing.text import Tokenizer\n",
    "from tensorflow.keras.preprocessing.sequence import pad_sequences\n",
    "from tensorflow.keras.utils import to_categorical\n",
    "from tensorflow.keras import regularizers\n",
    "from tensorflow import keras"
   ]
  },
  {
   "cell_type": "code",
   "execution_count": 16,
   "metadata": {
    "execution": {
     "iopub.execute_input": "2020-09-11T20:28:44.616230Z",
     "iopub.status.busy": "2020-09-11T20:28:44.600776Z",
     "iopub.status.idle": "2020-09-11T20:28:51.904003Z",
     "shell.execute_reply": "2020-09-11T20:28:51.904580Z"
    },
    "id": "MFnYM3CRrC1N",
    "papermill": {
     "duration": 7.378336,
     "end_time": "2020-09-11T20:28:51.904757",
     "exception": false,
     "start_time": "2020-09-11T20:28:44.526421",
     "status": "completed"
    },
    "tags": []
   },
   "outputs": [],
   "source": [
    "## fit train data into vector\n",
    "tokenizer=Tokenizer()\n",
    "tokenizer.fit_on_texts(train.Phrase1)\n",
    "train_sequences=tokenizer.texts_to_sequences(train_data.Phrase1)\n",
    "valid_sequences=tokenizer.texts_to_sequences(valid_data.Phrase1)\n",
    "test_sequences=tokenizer.texts_to_sequences(test.Phrase1)"
   ]
  },
  {
   "cell_type": "code",
   "execution_count": 17,
   "metadata": {
    "execution": {
     "iopub.execute_input": "2020-09-11T20:28:52.012258Z",
     "iopub.status.busy": "2020-09-11T20:28:52.011437Z",
     "iopub.status.idle": "2020-09-11T20:28:54.044785Z",
     "shell.execute_reply": "2020-09-11T20:28:54.045403Z"
    },
    "id": "nBb_CuOjrC1f",
    "papermill": {
     "duration": 2.091464,
     "end_time": "2020-09-11T20:28:54.045590",
     "exception": false,
     "start_time": "2020-09-11T20:28:51.954126",
     "status": "completed"
    },
    "tags": []
   },
   "outputs": [
    {
     "name": "stdout",
     "output_type": "stream",
     "text": [
      "(109242, 265) (46818, 265) (66292, 265)\n"
     ]
    }
   ],
   "source": [
    "## Pad sequence data with 0 for same length\n",
    "maxlen=train.Phrase1.apply(lambda x: len(x)).max()\n",
    "train_padded=pad_sequences(train_sequences,maxlen=maxlen,padding='post',truncating='post')\n",
    "valid_padded=pad_sequences(valid_sequences,maxlen=maxlen,padding='post',truncating='post')\n",
    "test_padded=pad_sequences(test_sequences,maxlen=maxlen,padding='post',truncating='post')\n",
    "print(train_padded.shape,valid_padded.shape,test_padded.shape)"
   ]
  },
  {
   "cell_type": "code",
   "execution_count": 18,
   "metadata": {
    "execution": {
     "iopub.execute_input": "2020-09-11T20:28:54.178657Z",
     "iopub.status.busy": "2020-09-11T20:28:54.177066Z",
     "iopub.status.idle": "2020-09-11T20:28:54.181027Z",
     "shell.execute_reply": "2020-09-11T20:28:54.180417Z"
    },
    "id": "Zm6Dmm3SrC1j",
    "papermill": {
     "duration": 0.061324,
     "end_time": "2020-09-11T20:28:54.181145",
     "exception": false,
     "start_time": "2020-09-11T20:28:54.119821",
     "status": "completed"
    },
    "tags": []
   },
   "outputs": [],
   "source": [
    "word_index=tokenizer.word_index\n",
    "vocab_size=len(word_index)\n",
    "embedding_matrix=np.zeros((vocab_size+1,50))   ## for unknown word, add 1 in vocab_size"
   ]
  },
  {
   "cell_type": "code",
   "execution_count": 19,
   "metadata": {
    "execution": {
     "iopub.execute_input": "2020-09-11T20:28:54.290911Z",
     "iopub.status.busy": "2020-09-11T20:28:54.289869Z",
     "iopub.status.idle": "2020-09-11T20:28:54.323715Z",
     "shell.execute_reply": "2020-09-11T20:28:54.324366Z"
    },
    "id": "eO-_MGiBrC1p",
    "papermill": {
     "duration": 0.093246,
     "end_time": "2020-09-11T20:28:54.324538",
     "exception": false,
     "start_time": "2020-09-11T20:28:54.231292",
     "status": "completed"
    },
    "tags": []
   },
   "outputs": [],
   "source": [
    "## Use Glove wordembedding\n",
    "for word, i in word_index.items():\n",
    "    embedding_vector=word_to_vec_map.get(word)\n",
    "    if embedding_vector is not None:\n",
    "        embedding_matrix[i]=embedding_vector"
   ]
  },
  {
   "cell_type": "code",
   "execution_count": 20,
   "metadata": {
    "execution": {
     "iopub.execute_input": "2020-09-11T20:28:54.432396Z",
     "iopub.status.busy": "2020-09-11T20:28:54.430980Z",
     "iopub.status.idle": "2020-09-11T20:28:54.524769Z",
     "shell.execute_reply": "2020-09-11T20:28:54.524159Z"
    },
    "id": "RBDBlUYIp2ps",
    "papermill": {
     "duration": 0.150122,
     "end_time": "2020-09-11T20:28:54.524898",
     "exception": false,
     "start_time": "2020-09-11T20:28:54.374776",
     "status": "completed"
    },
    "tags": []
   },
   "outputs": [],
   "source": [
    "train_x=np.array(train_padded)\n",
    "train_y=np.array(train_data.Sentiment)\n",
    "valid_x=np.array(valid_padded)\n",
    "valid_y=np.array(valid_data.Sentiment)\n",
    "test_x=np.array(test_padded)"
   ]
  },
  {
   "cell_type": "code",
   "execution_count": 21,
   "metadata": {
    "execution": {
     "iopub.execute_input": "2020-09-11T20:28:54.633458Z",
     "iopub.status.busy": "2020-09-11T20:28:54.632591Z",
     "iopub.status.idle": "2020-09-11T20:28:54.636998Z",
     "shell.execute_reply": "2020-09-11T20:28:54.636392Z"
    },
    "id": "Vo2wESwfpx0J",
    "papermill": {
     "duration": 0.061888,
     "end_time": "2020-09-11T20:28:54.637126",
     "exception": false,
     "start_time": "2020-09-11T20:28:54.575238",
     "status": "completed"
    },
    "tags": []
   },
   "outputs": [],
   "source": [
    "N_TRAIN=len(train_x)\n",
    "BATCH_SIZE=256\n",
    "STEPS_PER_EPOCH=N_TRAIN/BATCH_SIZE\n",
    "\n",
    "## decrease the learning rate when epoch increase.\n",
    "lr_decay=tf.keras.optimizers.schedules.InverseTimeDecay(\n",
    "    1e-2,\n",
    "    decay_steps=STEPS_PER_EPOCH*100,\n",
    "    decay_rate=1,\n",
    "    staircase=False\n",
    ")\n",
    "histories={}"
   ]
  },
  {
   "cell_type": "markdown",
   "metadata": {
    "id": "gEw1ZxIJFUMa",
    "papermill": {
     "duration": 0.050306,
     "end_time": "2020-09-11T20:28:54.738366",
     "exception": false,
     "start_time": "2020-09-11T20:28:54.688060",
     "status": "completed"
    },
    "tags": []
   },
   "source": [
    "## Deep learning model comparision"
   ]
  },
  {
   "cell_type": "markdown",
   "metadata": {
    "id": "i11B6UgLzv3M",
    "papermill": {
     "duration": 0.050051,
     "end_time": "2020-09-11T20:28:54.839527",
     "exception": false,
     "start_time": "2020-09-11T20:28:54.789476",
     "status": "completed"
    },
    "tags": []
   },
   "source": [
    "### ANN"
   ]
  },
  {
   "cell_type": "code",
   "execution_count": 22,
   "metadata": {
    "execution": {
     "iopub.execute_input": "2020-09-11T20:28:54.948661Z",
     "iopub.status.busy": "2020-09-11T20:28:54.947768Z",
     "iopub.status.idle": "2020-09-11T20:28:58.113866Z",
     "shell.execute_reply": "2020-09-11T20:28:58.112961Z"
    },
    "id": "No3EpXhz4UsN",
    "papermill": {
     "duration": 3.223999,
     "end_time": "2020-09-11T20:28:58.114072",
     "exception": false,
     "start_time": "2020-09-11T20:28:54.890073",
     "status": "completed"
    },
    "tags": []
   },
   "outputs": [],
   "source": [
    "## Simple NN model\n",
    "model = tf.keras.Sequential([\n",
    "    tf.keras.layers.Embedding(vocab_size+1,50,input_length=maxlen, weights=[embedding_matrix],trainable=False),\n",
    "    tf.keras.layers.Flatten(),\n",
    "    tf.keras.layers.Dense(256, activation='relu'),\n",
    "    tf.keras.layers.Dense(5, activation='softmax')\n",
    "])\n"
   ]
  },
  {
   "cell_type": "code",
   "execution_count": 23,
   "metadata": {
    "execution": {
     "iopub.execute_input": "2020-09-11T20:28:58.281407Z",
     "iopub.status.busy": "2020-09-11T20:28:58.280287Z",
     "iopub.status.idle": "2020-09-11T20:28:58.303062Z",
     "shell.execute_reply": "2020-09-11T20:28:58.304462Z"
    },
    "id": "0Xol5Q8y5F5u",
    "outputId": "2366497d-6b5d-43a7-d76c-fd1fc015d790",
    "papermill": {
     "duration": 0.115974,
     "end_time": "2020-09-11T20:28:58.304689",
     "exception": false,
     "start_time": "2020-09-11T20:28:58.188715",
     "status": "completed"
    },
    "tags": []
   },
   "outputs": [
    {
     "name": "stdout",
     "output_type": "stream",
     "text": [
      "Model: \"sequential\"\n",
      "_________________________________________________________________\n",
      "Layer (type)                 Output Shape              Param #   \n",
      "=================================================================\n",
      "embedding (Embedding)        (None, 265, 50)           820200    \n",
      "_________________________________________________________________\n",
      "flatten (Flatten)            (None, 13250)             0         \n",
      "_________________________________________________________________\n",
      "dense (Dense)                (None, 256)               3392256   \n",
      "_________________________________________________________________\n",
      "dense_1 (Dense)              (None, 5)                 1285      \n",
      "=================================================================\n",
      "Total params: 4,213,741\n",
      "Trainable params: 3,393,541\n",
      "Non-trainable params: 820,200\n",
      "_________________________________________________________________\n"
     ]
    }
   ],
   "source": [
    "model.compile(loss='sparse_categorical_crossentropy',optimizer=keras.optimizers.Adam(lr_decay),metrics='accuracy')\n",
    "model.summary()"
   ]
  },
  {
   "cell_type": "code",
   "execution_count": 24,
   "metadata": {
    "execution": {
     "iopub.execute_input": "2020-09-11T20:28:58.466076Z",
     "iopub.status.busy": "2020-09-11T20:28:58.461492Z",
     "iopub.status.idle": "2020-09-11T20:29:59.106291Z",
     "shell.execute_reply": "2020-09-11T20:29:59.107772Z"
    },
    "id": "AFolqGHqiD7h",
    "outputId": "ad504ed8-ad37-4aca-97dc-a97233c67dfc",
    "papermill": {
     "duration": 60.728285,
     "end_time": "2020-09-11T20:29:59.108005",
     "exception": false,
     "start_time": "2020-09-11T20:28:58.379720",
     "status": "completed"
    },
    "tags": []
   },
   "outputs": [
    {
     "name": "stdout",
     "output_type": "stream",
     "text": [
      "Epoch 1/10\n",
      "854/854 [==============================] - 6s 7ms/step - loss: 1.0737 - accuracy: 0.5569 - val_loss: 1.0355 - val_accuracy: 0.5710\n",
      "Epoch 2/10\n",
      "854/854 [==============================] - 6s 7ms/step - loss: 1.0282 - accuracy: 0.5752 - val_loss: 1.0423 - val_accuracy: 0.5699\n",
      "Epoch 3/10\n",
      "854/854 [==============================] - 6s 6ms/step - loss: 1.0023 - accuracy: 0.5839 - val_loss: 1.0419 - val_accuracy: 0.5748\n",
      "Epoch 4/10\n",
      "854/854 [==============================] - 6s 7ms/step - loss: 0.9794 - accuracy: 0.5944 - val_loss: 1.0719 - val_accuracy: 0.5658\n",
      "Epoch 5/10\n",
      "854/854 [==============================] - 6s 7ms/step - loss: 0.9581 - accuracy: 0.6037 - val_loss: 1.0672 - val_accuracy: 0.5725\n",
      "Epoch 6/10\n",
      "854/854 [==============================] - 6s 7ms/step - loss: 0.9364 - accuracy: 0.6127 - val_loss: 1.0981 - val_accuracy: 0.5726\n",
      "Epoch 7/10\n",
      "854/854 [==============================] - 6s 6ms/step - loss: 0.9148 - accuracy: 0.6207 - val_loss: 1.1117 - val_accuracy: 0.5682\n",
      "Epoch 8/10\n",
      "854/854 [==============================] - 7s 8ms/step - loss: 0.8930 - accuracy: 0.6318 - val_loss: 1.1459 - val_accuracy: 0.5720\n",
      "Epoch 9/10\n",
      "854/854 [==============================] - 6s 7ms/step - loss: 0.8742 - accuracy: 0.6387 - val_loss: 1.1766 - val_accuracy: 0.5603\n",
      "Epoch 10/10\n",
      "854/854 [==============================] - 6s 7ms/step - loss: 0.8556 - accuracy: 0.6456 - val_loss: 1.1915 - val_accuracy: 0.5657\n"
     ]
    }
   ],
   "source": [
    "histories['ANN']=model.fit(train_x, train_y, epochs = 10,validation_data=(valid_x,valid_y), batch_size = 128)"
   ]
  },
  {
   "cell_type": "code",
   "execution_count": 25,
   "metadata": {
    "execution": {
     "iopub.execute_input": "2020-09-11T20:29:59.919026Z",
     "iopub.status.busy": "2020-09-11T20:29:59.916809Z",
     "iopub.status.idle": "2020-09-11T20:29:59.919863Z",
     "shell.execute_reply": "2020-09-11T20:29:59.920416Z"
    },
    "papermill": {
     "duration": 0.412995,
     "end_time": "2020-09-11T20:29:59.920590",
     "exception": false,
     "start_time": "2020-09-11T20:29:59.507595",
     "status": "completed"
    },
    "tags": []
   },
   "outputs": [],
   "source": [
    "colors=['blue','green']\n",
    "def plot_metrics(history):\n",
    "  metrics =  ['loss', 'accuracy']\n",
    "  for n, metric in enumerate(metrics):\n",
    "    name = metric.replace(\"_\",\" \").capitalize()\n",
    "    plt.subplot(1,2,n+1)\n",
    "    plt.plot(history.epoch,  history.history[metric], color=colors[0], label='Train')\n",
    "    plt.plot(history.epoch, history.history['val_'+metric],\n",
    "             color=colors[1], linestyle=\"--\", label='Val')\n",
    "    plt.xlabel('Epoch')\n",
    "    plt.ylabel(name)\n",
    "    plt.legend()"
   ]
  },
  {
   "cell_type": "code",
   "execution_count": 26,
   "metadata": {
    "execution": {
     "iopub.execute_input": "2020-09-11T20:30:00.707190Z",
     "iopub.status.busy": "2020-09-11T20:30:00.700344Z",
     "iopub.status.idle": "2020-09-11T20:30:01.101194Z",
     "shell.execute_reply": "2020-09-11T20:30:01.101850Z"
    },
    "papermill": {
     "duration": 0.794546,
     "end_time": "2020-09-11T20:30:01.102029",
     "exception": false,
     "start_time": "2020-09-11T20:30:00.307483",
     "status": "completed"
    },
    "tags": []
   },
   "outputs": [
    {
     "data": {
      "image/png": "[encoded data removed]",
      "text/plain": [
       "<Figure size 1440x504 with 2 Axes>"
      ]
     },
     "metadata": {
      "needs_background": "light"
     },
     "output_type": "display_data"
    }
   ],
   "source": [
    "plt.figure(figsize=(20,7))\n",
    "plot_metrics(histories['ANN'])"
   ]
  },
  {
   "cell_type": "markdown",
   "metadata": {
    "id": "Ba_9A4Bg0ORt",
    "papermill": {
     "duration": 0.392529,
     "end_time": "2020-09-11T20:30:01.889523",
     "exception": false,
     "start_time": "2020-09-11T20:30:01.496994",
     "status": "completed"
    },
    "tags": []
   },
   "source": [
    "### Convolution NN"
   ]
  },
  {
   "cell_type": "code",
   "execution_count": 27,
   "metadata": {
    "execution": {
     "iopub.execute_input": "2020-09-11T20:30:02.741532Z",
     "iopub.status.busy": "2020-09-11T20:30:02.740318Z",
     "iopub.status.idle": "2020-09-11T20:30:02.843013Z",
     "shell.execute_reply": "2020-09-11T20:30:02.842359Z"
    },
    "id": "XU4yTrRu6AH-",
    "outputId": "d2817a3b-aad1-44ca-b0cf-4226a91b103b",
    "papermill": {
     "duration": 0.563128,
     "end_time": "2020-09-11T20:30:02.843148",
     "exception": false,
     "start_time": "2020-09-11T20:30:02.280020",
     "status": "completed"
    },
    "tags": []
   },
   "outputs": [
    {
     "name": "stdout",
     "output_type": "stream",
     "text": [
      "Model: \"sequential_1\"\n",
      "_________________________________________________________________\n",
      "Layer (type)                 Output Shape              Param #   \n",
      "=================================================================\n",
      "embedding_1 (Embedding)      (None, 265, 50)           820200    \n",
      "_________________________________________________________________\n",
      "conv1d (Conv1D)              (None, 265, 128)          12928     \n",
      "_________________________________________________________________\n",
      "max_pooling1d (MaxPooling1D) (None, 132, 128)          0         \n",
      "_________________________________________________________________\n",
      "flatten_1 (Flatten)          (None, 16896)             0         \n",
      "_________________________________________________________________\n",
      "dense_2 (Dense)              (None, 256)               4325632   \n",
      "_________________________________________________________________\n",
      "dropout (Dropout)            (None, 256)               0         \n",
      "_________________________________________________________________\n",
      "dense_3 (Dense)              (None, 5)                 1285      \n",
      "=================================================================\n",
      "Total params: 5,160,045\n",
      "Trainable params: 4,339,845\n",
      "Non-trainable params: 820,200\n",
      "_________________________________________________________________\n"
     ]
    }
   ],
   "source": [
    "model = tf.keras.Sequential([\n",
    "    tf.keras.layers.Embedding(vocab_size+1,50,input_length=maxlen, weights=[embedding_matrix],trainable=False),\n",
    "    #tf.keras.layers.Dropout(0.5),\n",
    "    tf.keras.layers.Conv1D(128, 2, padding='same',activation='relu'),\n",
    "    #tf.keras.layers.Dropout(0.5),\n",
    "    tf.keras.layers.MaxPooling1D(pool_size=2),\n",
    "    tf.keras.layers.Flatten(),\n",
    "    tf.keras.layers.Dense(256, activation='relu'),\n",
    "    tf.keras.layers.Dropout(0.3),\n",
    "    tf.keras.layers.Dense(5, activation='softmax')\n",
    "])\n",
    "model.compile(loss='sparse_categorical_crossentropy',optimizer=keras.optimizers.Adam(lr_decay),metrics='accuracy')\n",
    "model.summary()"
   ]
  },
  {
   "cell_type": "code",
   "execution_count": 28,
   "metadata": {
    "execution": {
     "iopub.execute_input": "2020-09-11T20:30:03.632448Z",
     "iopub.status.busy": "2020-09-11T20:30:03.631092Z",
     "iopub.status.idle": "2020-09-11T20:31:06.858740Z",
     "shell.execute_reply": "2020-09-11T20:31:06.857980Z"
    },
    "id": "bIoTPYv6AQfP",
    "outputId": "0c1d42bb-28bb-46c9-dcde-0fa90744acfa",
    "papermill": {
     "duration": 63.622313,
     "end_time": "2020-09-11T20:31:06.858901",
     "exception": false,
     "start_time": "2020-09-11T20:30:03.236588",
     "status": "completed"
    },
    "tags": []
   },
   "outputs": [
    {
     "name": "stdout",
     "output_type": "stream",
     "text": [
      "Epoch 1/10\n",
      "427/427 [==============================] - 6s 14ms/step - loss: 1.0811 - accuracy: 0.5577 - val_loss: 1.0013 - val_accuracy: 0.5836\n",
      "Epoch 2/10\n",
      "427/427 [==============================] - 6s 14ms/step - loss: 1.0036 - accuracy: 0.5823 - val_loss: 0.9961 - val_accuracy: 0.5884\n",
      "Epoch 3/10\n",
      "427/427 [==============================] - 6s 13ms/step - loss: 0.9840 - accuracy: 0.5901 - val_loss: 0.9818 - val_accuracy: 0.5921\n",
      "Epoch 4/10\n",
      "427/427 [==============================] - 6s 14ms/step - loss: 0.9666 - accuracy: 0.5979 - val_loss: 0.9744 - val_accuracy: 0.5930\n",
      "Epoch 5/10\n",
      "427/427 [==============================] - 6s 14ms/step - loss: 0.9509 - accuracy: 0.6028 - val_loss: 0.9716 - val_accuracy: 0.5980\n",
      "Epoch 6/10\n",
      "427/427 [==============================] - 6s 14ms/step - loss: 0.9351 - accuracy: 0.6096 - val_loss: 0.9771 - val_accuracy: 0.5926\n",
      "Epoch 7/10\n",
      "427/427 [==============================] - 7s 15ms/step - loss: 0.9213 - accuracy: 0.6137 - val_loss: 0.9737 - val_accuracy: 0.5976\n",
      "Epoch 8/10\n",
      "427/427 [==============================] - 6s 14ms/step - loss: 0.9087 - accuracy: 0.6200 - val_loss: 0.9799 - val_accuracy: 0.5987\n",
      "Epoch 9/10\n",
      "427/427 [==============================] - 6s 14ms/step - loss: 0.8966 - accuracy: 0.6247 - val_loss: 1.0017 - val_accuracy: 0.6010\n",
      "Epoch 10/10\n",
      "427/427 [==============================] - 6s 14ms/step - loss: 0.8826 - accuracy: 0.6310 - val_loss: 0.9919 - val_accuracy: 0.6026\n"
     ]
    }
   ],
   "source": [
    "histories['CNN']=model.fit(train_x, train_y, epochs = 10,validation_data=(valid_x,valid_y), batch_size = 256)"
   ]
  },
  {
   "cell_type": "code",
   "execution_count": 29,
   "metadata": {
    "execution": {
     "iopub.execute_input": "2020-09-11T20:31:08.374325Z",
     "iopub.status.busy": "2020-09-11T20:31:08.373095Z",
     "iopub.status.idle": "2020-09-11T20:31:08.780139Z",
     "shell.execute_reply": "2020-09-11T20:31:08.779261Z"
    },
    "papermill": {
     "duration": 1.170267,
     "end_time": "2020-09-11T20:31:08.780299",
     "exception": false,
     "start_time": "2020-09-11T20:31:07.610032",
     "status": "completed"
    },
    "tags": []
   },
   "outputs": [
    {
     "data": {
      "image/png": "[encoded data removed]",
      "text/plain": [
       "<Figure size 1440x504 with 2 Axes>"
      ]
     },
     "metadata": {
      "needs_background": "light"
     },
     "output_type": "display_data"
    }
   ],
   "source": [
    "plt.figure(figsize=(20,7))\n",
    "plot_metrics(histories['CNN'])"
   ]
  },
  {
   "cell_type": "markdown",
   "metadata": {
    "id": "aap5go5P4Xyr",
    "papermill": {
     "duration": 0.854297,
     "end_time": "2020-09-11T20:31:10.401270",
     "exception": false,
     "start_time": "2020-09-11T20:31:09.546973",
     "status": "completed"
    },
    "tags": []
   },
   "source": [
    "### RNN-LSTM, GRU"
   ]
  },
  {
   "cell_type": "code",
   "execution_count": 30,
   "metadata": {
    "execution": {
     "iopub.execute_input": "2020-09-11T20:31:12.085179Z",
     "iopub.status.busy": "2020-09-11T20:31:12.083978Z",
     "iopub.status.idle": "2020-09-11T20:31:12.716442Z",
     "shell.execute_reply": "2020-09-11T20:31:12.717049Z"
    },
    "id": "tyO-TW7_77-Y",
    "outputId": "fff147a3-493d-45bb-de42-913e79527b88",
    "papermill": {
     "duration": 1.40858,
     "end_time": "2020-09-11T20:31:12.717227",
     "exception": false,
     "start_time": "2020-09-11T20:31:11.308647",
     "status": "completed"
    },
    "tags": []
   },
   "outputs": [
    {
     "name": "stdout",
     "output_type": "stream",
     "text": [
      "Model: \"sequential_2\"\n",
      "_________________________________________________________________\n",
      "Layer (type)                 Output Shape              Param #   \n",
      "=================================================================\n",
      "embedding_2 (Embedding)      (None, 265, 50)           820200    \n",
      "_________________________________________________________________\n",
      "lstm (LSTM)                  (None, 265, 256)          314368    \n",
      "_________________________________________________________________\n",
      "lstm_1 (LSTM)                (None, 256)               525312    \n",
      "_________________________________________________________________\n",
      "dense_4 (Dense)              (None, 125)               32125     \n",
      "_________________________________________________________________\n",
      "dense_5 (Dense)              (None, 5)                 630       \n",
      "=================================================================\n",
      "Total params: 1,692,635\n",
      "Trainable params: 872,435\n",
      "Non-trainable params: 820,200\n",
      "_________________________________________________________________\n"
     ]
    }
   ],
   "source": [
    "model = tf.keras.Sequential([\n",
    "    tf.keras.layers.Embedding(vocab_size+1,50,input_length=maxlen, weights=[embedding_matrix],trainable=False),\n",
    "    #tf.keras.layers.Dropout(0.5),\n",
    "    tf.keras.layers.LSTM(256, return_sequences=True),\n",
    "    tf.keras.layers.LSTM(256),\n",
    "    #tf.keras.layers.Dropout(0.5),\n",
    "    tf.keras.layers.Dense(125, activation='relu'),\n",
    "    #tf.keras.layers.Dropout(0.3),\n",
    "    tf.keras.layers.Dense(5, activation='softmax')\n",
    "])\n",
    "model.compile(loss='sparse_categorical_crossentropy',optimizer=keras.optimizers.Adam(lr_decay),metrics='accuracy')\n",
    "model.summary()\n"
   ]
  },
  {
   "cell_type": "code",
   "execution_count": 31,
   "metadata": {
    "execution": {
     "iopub.execute_input": "2020-09-11T20:31:14.238418Z",
     "iopub.status.busy": "2020-09-11T20:31:14.237218Z",
     "iopub.status.idle": "2020-09-11T20:42:55.328507Z",
     "shell.execute_reply": "2020-09-11T20:42:55.327686Z"
    },
    "id": "dOp8CxgxFc2I",
    "outputId": "82759959-f5c4-48a9-f4fe-688e713dfa7f",
    "papermill": {
     "duration": 701.844329,
     "end_time": "2020-09-11T20:42:55.328694",
     "exception": false,
     "start_time": "2020-09-11T20:31:13.484365",
     "status": "completed"
    },
    "tags": []
   },
   "outputs": [
    {
     "name": "stdout",
     "output_type": "stream",
     "text": [
      "Epoch 1/10\n",
      "854/854 [==============================] - 71s 83ms/step - loss: 1.3062 - accuracy: 0.5051 - val_loss: 1.2846 - val_accuracy: 0.5145\n",
      "Epoch 2/10\n",
      "854/854 [==============================] - 70s 82ms/step - loss: 1.2888 - accuracy: 0.5080 - val_loss: 1.2810 - val_accuracy: 0.5145\n",
      "Epoch 3/10\n",
      "854/854 [==============================] - 70s 82ms/step - loss: 1.2871 - accuracy: 0.5080 - val_loss: 1.2808 - val_accuracy: 0.5145\n",
      "Epoch 4/10\n",
      "854/854 [==============================] - 70s 82ms/step - loss: 1.2866 - accuracy: 0.5080 - val_loss: 1.2792 - val_accuracy: 0.5145\n",
      "Epoch 5/10\n",
      "854/854 [==============================] - 70s 82ms/step - loss: 1.2861 - accuracy: 0.5080 - val_loss: 1.2795 - val_accuracy: 0.5145\n",
      "Epoch 6/10\n",
      "854/854 [==============================] - 69s 81ms/step - loss: 1.2861 - accuracy: 0.5080 - val_loss: 1.2790 - val_accuracy: 0.5145\n",
      "Epoch 7/10\n",
      "854/854 [==============================] - 69s 81ms/step - loss: 1.2862 - accuracy: 0.5080 - val_loss: 1.2791 - val_accuracy: 0.5145\n",
      "Epoch 8/10\n",
      "854/854 [==============================] - 70s 82ms/step - loss: 1.2861 - accuracy: 0.5080 - val_loss: 1.2793 - val_accuracy: 0.5145\n",
      "Epoch 9/10\n",
      "854/854 [==============================] - 69s 81ms/step - loss: 1.2861 - accuracy: 0.5080 - val_loss: 1.2790 - val_accuracy: 0.5145\n",
      "Epoch 10/10\n",
      "854/854 [==============================] - 70s 82ms/step - loss: 1.2861 - accuracy: 0.5080 - val_loss: 1.2791 - val_accuracy: 0.5145\n"
     ]
    }
   ],
   "source": [
    "histories['LSTM_1']=model.fit(train_x, train_y, epochs = 10,validation_data=(valid_x,valid_y), batch_size = 128)"
   ]
  },
  {
   "cell_type": "code",
   "execution_count": 32,
   "metadata": {
    "execution": {
     "iopub.execute_input": "2020-09-11T20:43:03.971657Z",
     "iopub.status.busy": "2020-09-11T20:43:03.970423Z",
     "iopub.status.idle": "2020-09-11T20:43:04.374714Z",
     "shell.execute_reply": "2020-09-11T20:43:04.375329Z"
    },
    "papermill": {
     "duration": 4.756194,
     "end_time": "2020-09-11T20:43:04.375498",
     "exception": false,
     "start_time": "2020-09-11T20:42:59.619304",
     "status": "completed"
    },
    "tags": []
   },
   "outputs": [
    {
     "data": {
      "image/png": "[encoded data removed]",
      "text/plain": [
       "<Figure size 1440x504 with 2 Axes>"
      ]
     },
     "metadata": {
      "needs_background": "light"
     },
     "output_type": "display_data"
    }
   ],
   "source": [
    "plt.figure(figsize=(20,7))\n",
    "plot_metrics(histories['LSTM_1'])"
   ]
  },
  {
   "cell_type": "markdown",
   "metadata": {
    "id": "N-JfnFj_443g",
    "papermill": {
     "duration": 4.198227,
     "end_time": "2020-09-11T20:43:13.148435",
     "exception": false,
     "start_time": "2020-09-11T20:43:08.950208",
     "status": "completed"
    },
    "tags": []
   },
   "source": [
    "### Bidirectional LSTM"
   ]
  },
  {
   "cell_type": "code",
   "execution_count": 33,
   "metadata": {
    "execution": {
     "iopub.execute_input": "2020-09-11T20:43:21.760087Z",
     "iopub.status.busy": "2020-09-11T20:43:21.758948Z",
     "iopub.status.idle": "2020-09-11T20:43:22.316882Z",
     "shell.execute_reply": "2020-09-11T20:43:22.316209Z"
    },
    "id": "AZed9BJjbRWy",
    "outputId": "11892f4f-e5dc-4639-af82-929691d6755e",
    "papermill": {
     "duration": 4.768412,
     "end_time": "2020-09-11T20:43:22.317013",
     "exception": false,
     "start_time": "2020-09-11T20:43:17.548601",
     "status": "completed"
    },
    "tags": []
   },
   "outputs": [
    {
     "name": "stdout",
     "output_type": "stream",
     "text": [
      "Model: \"sequential_3\"\n",
      "_________________________________________________________________\n",
      "Layer (type)                 Output Shape              Param #   \n",
      "=================================================================\n",
      "embedding_3 (Embedding)      (None, 265, 50)           820200    \n",
      "_________________________________________________________________\n",
      "bidirectional (Bidirectional (None, 64)                21248     \n",
      "_________________________________________________________________\n",
      "dense_6 (Dense)              (None, 256)               16640     \n",
      "_________________________________________________________________\n",
      "dropout_1 (Dropout)          (None, 256)               0         \n",
      "_________________________________________________________________\n",
      "dense_7 (Dense)              (None, 5)                 1285      \n",
      "=================================================================\n",
      "Total params: 859,373\n",
      "Trainable params: 39,173\n",
      "Non-trainable params: 820,200\n",
      "_________________________________________________________________\n"
     ]
    }
   ],
   "source": [
    "model = tf.keras.Sequential([\n",
    "    tf.keras.layers.Embedding(vocab_size+1,50,input_length=maxlen, weights=[embedding_matrix],trainable=False),\n",
    "    #tf.keras.layers.Dropout(0.5),\n",
    "    tf.keras.layers.Bidirectional(tf.keras.layers.LSTM(32)),\n",
    "    #tf.keras.layers.Dropout(0.5),\n",
    "    tf.keras.layers.Dense(256, activation='relu'),\n",
    "    tf.keras.layers.Dropout(0.3),\n",
    "    tf.keras.layers.Dense(5, activation='softmax')\n",
    "])\n",
    "model.compile(loss='sparse_categorical_crossentropy',optimizer=keras.optimizers.Adam(lr_decay),metrics='accuracy')\n",
    "model.summary()"
   ]
  },
  {
   "cell_type": "code",
   "execution_count": 34,
   "metadata": {
    "execution": {
     "iopub.execute_input": "2020-09-11T20:43:30.955250Z",
     "iopub.status.busy": "2020-09-11T20:43:30.954004Z",
     "iopub.status.idle": "2020-09-11T20:46:17.488606Z",
     "shell.execute_reply": "2020-09-11T20:46:17.487488Z"
    },
    "id": "mv3_QycXbhcM",
    "outputId": "583572bd-cf6e-4477-e2d0-f858e90bff52",
    "papermill": {
     "duration": 171.027686,
     "end_time": "2020-09-11T20:46:17.488750",
     "exception": false,
     "start_time": "2020-09-11T20:43:26.461064",
     "status": "completed"
    },
    "tags": []
   },
   "outputs": [
    {
     "name": "stdout",
     "output_type": "stream",
     "text": [
      "Epoch 1/10\n",
      "427/427 [==============================] - 17s 41ms/step - loss: 1.0147 - accuracy: 0.5816 - val_loss: 0.9613 - val_accuracy: 0.5980\n",
      "Epoch 2/10\n",
      "427/427 [==============================] - 17s 40ms/step - loss: 0.9493 - accuracy: 0.6069 - val_loss: 0.9399 - val_accuracy: 0.6090\n",
      "Epoch 3/10\n",
      "427/427 [==============================] - 15s 36ms/step - loss: 0.9206 - accuracy: 0.6167 - val_loss: 0.9272 - val_accuracy: 0.6149\n",
      "Epoch 4/10\n",
      "427/427 [==============================] - 15s 36ms/step - loss: 0.9044 - accuracy: 0.6236 - val_loss: 0.9166 - val_accuracy: 0.6197\n",
      "Epoch 5/10\n",
      "427/427 [==============================] - 18s 42ms/step - loss: 0.8872 - accuracy: 0.6324 - val_loss: 0.9187 - val_accuracy: 0.6195\n",
      "Epoch 6/10\n",
      "427/427 [==============================] - 15s 36ms/step - loss: 0.8748 - accuracy: 0.6353 - val_loss: 0.9123 - val_accuracy: 0.6268\n",
      "Epoch 7/10\n",
      "427/427 [==============================] - 15s 36ms/step - loss: 0.8663 - accuracy: 0.6392 - val_loss: 0.9125 - val_accuracy: 0.6263\n",
      "Epoch 8/10\n",
      "427/427 [==============================] - 16s 37ms/step - loss: 0.8548 - accuracy: 0.6451 - val_loss: 0.9075 - val_accuracy: 0.6280\n",
      "Epoch 9/10\n",
      "427/427 [==============================] - 17s 41ms/step - loss: 0.8491 - accuracy: 0.6454 - val_loss: 0.9113 - val_accuracy: 0.6263\n",
      "Epoch 10/10\n",
      "427/427 [==============================] - 16s 36ms/step - loss: 0.8405 - accuracy: 0.6493 - val_loss: 0.9043 - val_accuracy: 0.6295\n"
     ]
    }
   ],
   "source": [
    "histories['LSTM_2']=model.fit(train_x, train_y, epochs = 10,validation_data=(valid_x,valid_y), batch_size = 256)"
   ]
  },
  {
   "cell_type": "code",
   "execution_count": 35,
   "metadata": {
    "execution": {
     "iopub.execute_input": "2020-09-11T20:46:27.982335Z",
     "iopub.status.busy": "2020-09-11T20:46:27.980929Z",
     "iopub.status.idle": "2020-09-11T20:46:28.420951Z",
     "shell.execute_reply": "2020-09-11T20:46:28.421629Z"
    },
    "papermill": {
     "duration": 5.894396,
     "end_time": "2020-09-11T20:46:28.421797",
     "exception": false,
     "start_time": "2020-09-11T20:46:22.527401",
     "status": "completed"
    },
    "tags": []
   },
   "outputs": [
    {
     "data": {
      "image/png": "[encoded data removed]",
      "text/plain": [
       "<Figure size 1440x504 with 2 Axes>"
      ]
     },
     "metadata": {
      "needs_background": "light"
     },
     "output_type": "display_data"
    }
   ],
   "source": [
    "plt.figure(figsize=(20,7))\n",
    "plot_metrics(histories['LSTM_2'])"
   ]
  },
  {
   "cell_type": "markdown",
   "metadata": {
    "papermill": {
     "duration": 5.232019,
     "end_time": "2020-09-11T20:46:38.774247",
     "exception": false,
     "start_time": "2020-09-11T20:46:33.542228",
     "status": "completed"
    },
    "tags": []
   },
   "source": [
    "Bidirectional LSTM tunning"
   ]
  },
  {
   "cell_type": "code",
   "execution_count": 36,
   "metadata": {
    "execution": {
     "iopub.execute_input": "2020-09-11T20:46:50.254174Z",
     "iopub.status.busy": "2020-09-11T20:46:50.244508Z",
     "iopub.status.idle": "2020-09-11T20:46:51.352046Z",
     "shell.execute_reply": "2020-09-11T20:46:51.352959Z"
    },
    "id": "HBOedHadIhKJ",
    "outputId": "776528e0-1f9c-4635-c5cf-9fc3b24def92",
    "papermill": {
     "duration": 6.784219,
     "end_time": "2020-09-11T20:46:51.353132",
     "exception": false,
     "start_time": "2020-09-11T20:46:44.568913",
     "status": "completed"
    },
    "tags": []
   },
   "outputs": [
    {
     "name": "stdout",
     "output_type": "stream",
     "text": [
      "Model: \"sequential_4\"\n",
      "_________________________________________________________________\n",
      "Layer (type)                 Output Shape              Param #   \n",
      "=================================================================\n",
      "embedding_4 (Embedding)      (None, 265, 50)           820200    \n",
      "_________________________________________________________________\n",
      "bidirectional_1 (Bidirection (None, 265, 128)          58880     \n",
      "_________________________________________________________________\n",
      "bidirectional_2 (Bidirection (None, 128)               98816     \n",
      "_________________________________________________________________\n",
      "dense_8 (Dense)              (None, 256)               33024     \n",
      "_________________________________________________________________\n",
      "dropout_2 (Dropout)          (None, 256)               0         \n",
      "_________________________________________________________________\n",
      "dense_9 (Dense)              (None, 5)                 1285      \n",
      "=================================================================\n",
      "Total params: 1,012,205\n",
      "Trainable params: 192,005\n",
      "Non-trainable params: 820,200\n",
      "_________________________________________________________________\n"
     ]
    }
   ],
   "source": [
    "model = tf.keras.Sequential([\n",
    "    tf.keras.layers.Embedding(vocab_size+1,50,input_length=maxlen, weights=[embedding_matrix],trainable=False),\n",
    "    #tf.keras.layers.Dropout(0.5),\n",
    "    tf.keras.layers.Bidirectional(tf.keras.layers.LSTM(64, return_sequences=True)),\n",
    "    tf.keras.layers.Bidirectional(tf.keras.layers.LSTM(64)),\n",
    "    #tf.keras.layers.Dropout(0.5),\n",
    "    tf.keras.layers.Dense(256, activation='relu'),\n",
    "    tf.keras.layers.Dropout(0.3),\n",
    "    tf.keras.layers.Dense(5, activation='softmax')\n",
    "])\n",
    "model.compile(loss='sparse_categorical_crossentropy',optimizer=keras.optimizers.Adam(lr_decay),metrics='accuracy')\n",
    "model.summary()"
   ]
  },
  {
   "cell_type": "code",
   "execution_count": 37,
   "metadata": {
    "execution": {
     "iopub.execute_input": "2020-09-11T20:47:01.814109Z",
     "iopub.status.busy": "2020-09-11T20:47:01.812903Z",
     "iopub.status.idle": "2020-09-11T20:54:09.366392Z",
     "shell.execute_reply": "2020-09-11T20:54:09.365762Z"
    },
    "id": "dO92nEre4ReI",
    "outputId": "982bdbb5-9bb4-40dd-8107-35b2355c47b7",
    "papermill": {
     "duration": 432.831311,
     "end_time": "2020-09-11T20:54:09.366529",
     "exception": false,
     "start_time": "2020-09-11T20:46:56.535218",
     "status": "completed"
    },
    "tags": []
   },
   "outputs": [
    {
     "name": "stdout",
     "output_type": "stream",
     "text": [
      "Epoch 1/10\n",
      "427/427 [==============================] - 43s 102ms/step - loss: 1.0020 - accuracy: 0.5869 - val_loss: 0.9190 - val_accuracy: 0.6171\n",
      "Epoch 2/10\n",
      "427/427 [==============================] - 41s 97ms/step - loss: 0.9414 - accuracy: 0.6120 - val_loss: 0.9010 - val_accuracy: 0.6206\n",
      "Epoch 3/10\n",
      "427/427 [==============================] - 42s 99ms/step - loss: 0.8533 - accuracy: 0.6464 - val_loss: 0.8622 - val_accuracy: 0.6428\n",
      "Epoch 4/10\n",
      "427/427 [==============================] - 42s 99ms/step - loss: 0.8119 - accuracy: 0.6638 - val_loss: 0.8486 - val_accuracy: 0.6501\n",
      "Epoch 5/10\n",
      "427/427 [==============================] - 42s 98ms/step - loss: 0.7784 - accuracy: 0.6768 - val_loss: 0.8392 - val_accuracy: 0.6577\n",
      "Epoch 6/10\n",
      "427/427 [==============================] - 42s 98ms/step - loss: 0.7530 - accuracy: 0.6860 - val_loss: 0.8392 - val_accuracy: 0.6550\n",
      "Epoch 7/10\n",
      "427/427 [==============================] - 42s 97ms/step - loss: 0.7294 - accuracy: 0.6954 - val_loss: 0.8464 - val_accuracy: 0.6562\n",
      "Epoch 8/10\n",
      "427/427 [==============================] - 42s 99ms/step - loss: 0.7080 - accuracy: 0.7037 - val_loss: 0.8595 - val_accuracy: 0.6514\n",
      "Epoch 9/10\n",
      "427/427 [==============================] - 42s 98ms/step - loss: 0.6878 - accuracy: 0.7106 - val_loss: 0.8586 - val_accuracy: 0.6591\n",
      "Epoch 10/10\n",
      "427/427 [==============================] - 42s 99ms/step - loss: 0.7688 - accuracy: 0.6792 - val_loss: 0.9276 - val_accuracy: 0.6192\n"
     ]
    }
   ],
   "source": [
    "histories['LSTM_3']=model.fit(train_x, train_y, epochs = 10,validation_data=(valid_x,valid_y), batch_size = 256)"
   ]
  },
  {
   "cell_type": "code",
   "execution_count": 38,
   "metadata": {
    "execution": {
     "iopub.execute_input": "2020-09-11T20:54:23.101340Z",
     "iopub.status.busy": "2020-09-11T20:54:23.100125Z",
     "iopub.status.idle": "2020-09-11T20:54:23.500718Z",
     "shell.execute_reply": "2020-09-11T20:54:23.501391Z"
    },
    "papermill": {
     "duration": 7.416893,
     "end_time": "2020-09-11T20:54:23.501593",
     "exception": false,
     "start_time": "2020-09-11T20:54:16.084700",
     "status": "completed"
    },
    "tags": []
   },
   "outputs": [
    {
     "data": {
      "image/png": "[encoded data removed]",
      "text/plain": [
       "<Figure size 1440x504 with 2 Axes>"
      ]
     },
     "metadata": {
      "needs_background": "light"
     },
     "output_type": "display_data"
    }
   ],
   "source": [
    "plt.figure(figsize=(20,7))\n",
    "plot_metrics(histories['LSTM_3'])"
   ]
  },
  {
   "cell_type": "code",
   "execution_count": 39,
   "metadata": {
    "execution": {
     "iopub.execute_input": "2020-09-11T20:54:37.614194Z",
     "iopub.status.busy": "2020-09-11T20:54:37.605645Z",
     "iopub.status.idle": "2020-09-11T20:54:38.818010Z",
     "shell.execute_reply": "2020-09-11T20:54:38.817036Z"
    },
    "id": "crBcbLALwi35",
    "outputId": "36661a87-0e1e-4a95-bc44-0dbe6de70a70",
    "papermill": {
     "duration": 8.198391,
     "end_time": "2020-09-11T20:54:38.818535",
     "exception": false,
     "start_time": "2020-09-11T20:54:30.620144",
     "status": "completed"
    },
    "tags": []
   },
   "outputs": [
    {
     "name": "stdout",
     "output_type": "stream",
     "text": [
      "Model: \"sequential_5\"\n",
      "_________________________________________________________________\n",
      "Layer (type)                 Output Shape              Param #   \n",
      "=================================================================\n",
      "embedding_5 (Embedding)      (None, 265, 50)           820200    \n",
      "_________________________________________________________________\n",
      "bidirectional_3 (Bidirection (None, 265, 128)          58880     \n",
      "_________________________________________________________________\n",
      "bidirectional_4 (Bidirection (None, 128)               98816     \n",
      "_________________________________________________________________\n",
      "dense_10 (Dense)             (None, 256)               33024     \n",
      "_________________________________________________________________\n",
      "dropout_3 (Dropout)          (None, 256)               0         \n",
      "_________________________________________________________________\n",
      "dense_11 (Dense)             (None, 5)                 1285      \n",
      "=================================================================\n",
      "Total params: 1,012,205\n",
      "Trainable params: 192,005\n",
      "Non-trainable params: 820,200\n",
      "_________________________________________________________________\n"
     ]
    }
   ],
   "source": [
    "model = tf.keras.Sequential([\n",
    "    tf.keras.layers.Embedding(vocab_size+1,50,input_length=maxlen, weights=[embedding_matrix],trainable=False),\n",
    "    #tf.keras.layers.Dropout(0.5),\n",
    "    tf.keras.layers.Bidirectional(tf.keras.layers.LSTM(64, return_sequences=True)),\n",
    "    tf.keras.layers.Bidirectional(tf.keras.layers.LSTM(64)),\n",
    "    #tf.keras.layers.Dropout(0.5),\n",
    "    tf.keras.layers.Dense(256, activation='relu'),\n",
    "    tf.keras.layers.Dropout(0.5),\n",
    "    tf.keras.layers.Dense(5, activation='softmax')\n",
    "])\n",
    "model.compile(loss='sparse_categorical_crossentropy',optimizer=keras.optimizers.Adam(lr_decay),metrics='accuracy')\n",
    "model.summary()"
   ]
  },
  {
   "cell_type": "code",
   "execution_count": 40,
   "metadata": {
    "execution": {
     "iopub.execute_input": "2020-09-11T20:54:53.575435Z",
     "iopub.status.busy": "2020-09-11T20:54:53.574201Z",
     "iopub.status.idle": "2020-09-11T21:02:08.743251Z",
     "shell.execute_reply": "2020-09-11T21:02:08.744292Z"
    },
    "id": "qIfl3SaL1Gd3",
    "outputId": "acbeddaa-988e-4a29-bc32-805567a4f3e0",
    "papermill": {
     "duration": 442.67323,
     "end_time": "2020-09-11T21:02:08.744566",
     "exception": false,
     "start_time": "2020-09-11T20:54:46.071336",
     "status": "completed"
    },
    "tags": []
   },
   "outputs": [
    {
     "name": "stdout",
     "output_type": "stream",
     "text": [
      "Epoch 1/10\n",
      "427/427 [==============================] - 43s 101ms/step - loss: 0.9997 - accuracy: 0.5875 - val_loss: 0.9227 - val_accuracy: 0.6167\n",
      "Epoch 2/10\n",
      "427/427 [==============================] - 41s 97ms/step - loss: 0.9347 - accuracy: 0.6132 - val_loss: 0.9268 - val_accuracy: 0.6139\n",
      "Epoch 3/10\n",
      "427/427 [==============================] - 42s 98ms/step - loss: 0.8752 - accuracy: 0.6357 - val_loss: 0.8574 - val_accuracy: 0.6449\n",
      "Epoch 4/10\n",
      "427/427 [==============================] - 42s 98ms/step - loss: 0.8225 - accuracy: 0.6574 - val_loss: 0.8420 - val_accuracy: 0.6503\n",
      "Epoch 5/10\n",
      "427/427 [==============================] - 42s 98ms/step - loss: 0.7864 - accuracy: 0.6728 - val_loss: 0.8519 - val_accuracy: 0.6511\n",
      "Epoch 6/10\n",
      "427/427 [==============================] - 42s 98ms/step - loss: 0.7597 - accuracy: 0.6839 - val_loss: 0.8487 - val_accuracy: 0.6565\n",
      "Epoch 7/10\n",
      "427/427 [==============================] - 41s 97ms/step - loss: 0.7353 - accuracy: 0.6934 - val_loss: 0.8454 - val_accuracy: 0.6568\n",
      "Epoch 8/10\n",
      "427/427 [==============================] - 42s 99ms/step - loss: 0.7161 - accuracy: 0.6999 - val_loss: 0.8560 - val_accuracy: 0.6568\n",
      "Epoch 9/10\n",
      "427/427 [==============================] - 42s 98ms/step - loss: 0.6955 - accuracy: 0.7081 - val_loss: 0.8703 - val_accuracy: 0.6600\n",
      "Epoch 10/10\n",
      "427/427 [==============================] - 42s 99ms/step - loss: 0.6774 - accuracy: 0.7153 - val_loss: 0.8731 - val_accuracy: 0.6577\n"
     ]
    }
   ],
   "source": [
    "## best, 6522\n",
    "histories['LSTM_4']=model.fit(train_x, train_y, epochs = 10,validation_data=(valid_x,valid_y), batch_size = 256)"
   ]
  },
  {
   "cell_type": "code",
   "execution_count": 41,
   "metadata": {
    "execution": {
     "iopub.execute_input": "2020-09-11T21:02:26.283104Z",
     "iopub.status.busy": "2020-09-11T21:02:26.281509Z",
     "iopub.status.idle": "2020-09-11T21:02:26.674779Z",
     "shell.execute_reply": "2020-09-11T21:02:26.674049Z"
    },
    "papermill": {
     "duration": 9.150003,
     "end_time": "2020-09-11T21:02:26.674958",
     "exception": false,
     "start_time": "2020-09-11T21:02:17.524955",
     "status": "completed"
    },
    "tags": []
   },
   "outputs": [
    {
     "data": {
      "image/png": "[encoded data removed]",
      "text/plain": [
       "<Figure size 1440x504 with 2 Axes>"
      ]
     },
     "metadata": {
      "needs_background": "light"
     },
     "output_type": "display_data"
    }
   ],
   "source": [
    "plt.figure(figsize=(20,7))\n",
    "plot_metrics(histories['LSTM_4'])"
   ]
  },
  {
   "cell_type": "code",
   "execution_count": 42,
   "metadata": {
    "execution": {
     "iopub.execute_input": "2020-09-11T21:02:44.840121Z",
     "iopub.status.busy": "2020-09-11T21:02:44.824076Z",
     "iopub.status.idle": "2020-09-11T21:02:46.438175Z",
     "shell.execute_reply": "2020-09-11T21:02:46.437397Z"
    },
    "id": "H73ZDSca1JVa",
    "outputId": "019741bf-9f1f-4e0a-c9c4-031189c74fd3",
    "papermill": {
     "duration": 10.792181,
     "end_time": "2020-09-11T21:02:46.438321",
     "exception": false,
     "start_time": "2020-09-11T21:02:35.646140",
     "status": "completed"
    },
    "tags": []
   },
   "outputs": [
    {
     "name": "stdout",
     "output_type": "stream",
     "text": [
      "Model: \"sequential_6\"\n",
      "_________________________________________________________________\n",
      "Layer (type)                 Output Shape              Param #   \n",
      "=================================================================\n",
      "embedding_6 (Embedding)      (None, 265, 50)           820200    \n",
      "_________________________________________________________________\n",
      "bidirectional_5 (Bidirection (None, 265, 128)          58880     \n",
      "_________________________________________________________________\n",
      "bidirectional_6 (Bidirection (None, 265, 128)          98816     \n",
      "_________________________________________________________________\n",
      "bidirectional_7 (Bidirection (None, 128)               98816     \n",
      "_________________________________________________________________\n",
      "dropout_4 (Dropout)          (None, 128)               0         \n",
      "_________________________________________________________________\n",
      "dense_12 (Dense)             (None, 256)               33024     \n",
      "_________________________________________________________________\n",
      "dropout_5 (Dropout)          (None, 256)               0         \n",
      "_________________________________________________________________\n",
      "dense_13 (Dense)             (None, 5)                 1285      \n",
      "=================================================================\n",
      "Total params: 1,111,021\n",
      "Trainable params: 290,821\n",
      "Non-trainable params: 820,200\n",
      "_________________________________________________________________\n"
     ]
    }
   ],
   "source": [
    "model = tf.keras.Sequential([\n",
    "    tf.keras.layers.Embedding(vocab_size+1,50,input_length=maxlen, weights=[embedding_matrix],trainable=False),\n",
    "    #tf.keras.layers.Dropout(0.5),\n",
    "    tf.keras.layers.Bidirectional(tf.keras.layers.LSTM(64, return_sequences=True)),\n",
    "    tf.keras.layers.Bidirectional(tf.keras.layers.LSTM(64, return_sequences=True)),\n",
    "    tf.keras.layers.Bidirectional(tf.keras.layers.LSTM(64)),\n",
    "    tf.keras.layers.Dropout(0.5),\n",
    "    tf.keras.layers.Dense(256, activation='relu'),\n",
    "    tf.keras.layers.Dropout(0.5),\n",
    "    tf.keras.layers.Dense(5, activation='softmax')\n",
    "])\n",
    "model.compile(loss='sparse_categorical_crossentropy',optimizer=keras.optimizers.Adam(lr_decay),metrics='accuracy')\n",
    "model.summary()"
   ]
  },
  {
   "cell_type": "code",
   "execution_count": 43,
   "metadata": {
    "execution": {
     "iopub.execute_input": "2020-09-11T21:03:04.926888Z",
     "iopub.status.busy": "2020-09-11T21:03:04.814669Z",
     "iopub.status.idle": "2020-09-11T21:14:12.800065Z",
     "shell.execute_reply": "2020-09-11T21:14:12.801039Z"
    },
    "id": "76AGqQAF3B01",
    "outputId": "00af925d-ab97-4468-816c-288741149543",
    "papermill": {
     "duration": 676.97108,
     "end_time": "2020-09-11T21:14:12.801325",
     "exception": false,
     "start_time": "2020-09-11T21:02:55.830245",
     "status": "completed"
    },
    "tags": []
   },
   "outputs": [
    {
     "name": "stdout",
     "output_type": "stream",
     "text": [
      "Epoch 1/10\n",
      "427/427 [==============================] - 69s 163ms/step - loss: 1.0407 - accuracy: 0.5727 - val_loss: 0.9496 - val_accuracy: 0.6083\n",
      "Epoch 2/10\n",
      "427/427 [==============================] - 65s 152ms/step - loss: 0.9222 - accuracy: 0.6180 - val_loss: 0.8795 - val_accuracy: 0.6364\n",
      "Epoch 3/10\n",
      "427/427 [==============================] - 65s 153ms/step - loss: 0.8640 - accuracy: 0.6420 - val_loss: 0.8730 - val_accuracy: 0.6422\n",
      "Epoch 4/10\n",
      "427/427 [==============================] - 65s 153ms/step - loss: 0.8414 - accuracy: 0.6519 - val_loss: 0.8804 - val_accuracy: 0.6321\n",
      "Epoch 5/10\n",
      "427/427 [==============================] - 66s 155ms/step - loss: 0.8936 - accuracy: 0.6317 - val_loss: 0.8809 - val_accuracy: 0.6361\n",
      "Epoch 6/10\n",
      "427/427 [==============================] - 65s 152ms/step - loss: 0.8370 - accuracy: 0.6537 - val_loss: 0.8577 - val_accuracy: 0.6445\n",
      "Epoch 7/10\n",
      "427/427 [==============================] - 66s 155ms/step - loss: 0.8006 - accuracy: 0.6684 - val_loss: 0.8516 - val_accuracy: 0.6513\n",
      "Epoch 8/10\n",
      "427/427 [==============================] - 65s 152ms/step - loss: 0.7783 - accuracy: 0.6779 - val_loss: 0.8544 - val_accuracy: 0.6504\n",
      "Epoch 9/10\n",
      "427/427 [==============================] - 66s 155ms/step - loss: 0.7555 - accuracy: 0.6871 - val_loss: 0.8588 - val_accuracy: 0.6520\n",
      "Epoch 10/10\n",
      "427/427 [==============================] - 65s 152ms/step - loss: 0.7360 - accuracy: 0.6935 - val_loss: 0.8698 - val_accuracy: 0.6504\n"
     ]
    }
   ],
   "source": [
    "## best, 6577\n",
    "histories['LSTM_5']=model.fit(train_x, train_y, epochs = 10,validation_data=(valid_x,valid_y), batch_size = 256)"
   ]
  },
  {
   "cell_type": "code",
   "execution_count": 44,
   "metadata": {
    "execution": {
     "iopub.execute_input": "2020-09-11T21:14:33.765145Z",
     "iopub.status.busy": "2020-09-11T21:14:33.763774Z",
     "iopub.status.idle": "2020-09-11T21:14:34.178887Z",
     "shell.execute_reply": "2020-09-11T21:14:34.179585Z"
    },
    "papermill": {
     "duration": 10.994884,
     "end_time": "2020-09-11T21:14:34.179761",
     "exception": false,
     "start_time": "2020-09-11T21:14:23.184877",
     "status": "completed"
    },
    "tags": []
   },
   "outputs": [
    {
     "data": {
      "image/png": "[encoded data removed]",
      "text/plain": [
       "<Figure size 1440x504 with 2 Axes>"
      ]
     },
     "metadata": {
      "needs_background": "light"
     },
     "output_type": "display_data"
    }
   ],
   "source": [
    "plt.figure(figsize=(20,7))\n",
    "plot_metrics(histories['LSTM_5'])"
   ]
  },
  {
   "cell_type": "markdown",
   "metadata": {
    "papermill": {
     "duration": 10.969435,
     "end_time": "2020-09-11T21:14:56.026054",
     "exception": false,
     "start_time": "2020-09-11T21:14:45.056619",
     "status": "completed"
    },
    "tags": []
   },
   "source": [
    "## Submission"
   ]
  },
  {
   "cell_type": "code",
   "execution_count": 45,
   "metadata": {
    "execution": {
     "iopub.execute_input": "2020-09-11T21:15:17.057916Z",
     "iopub.status.busy": "2020-09-11T21:15:17.056753Z",
     "iopub.status.idle": "2020-09-11T21:16:12.904750Z",
     "shell.execute_reply": "2020-09-11T21:16:12.903750Z"
    },
    "papermill": {
     "duration": 66.266023,
     "end_time": "2020-09-11T21:16:12.904881",
     "exception": false,
     "start_time": "2020-09-11T21:15:06.638858",
     "status": "completed"
    },
    "tags": []
   },
   "outputs": [],
   "source": [
    "test_y=model.predict_classes(test_x)"
   ]
  },
  {
   "cell_type": "code",
   "execution_count": 46,
   "metadata": {
    "execution": {
     "iopub.execute_input": "2020-09-11T21:16:33.664252Z",
     "iopub.status.busy": "2020-09-11T21:16:33.663506Z",
     "iopub.status.idle": "2020-09-11T21:16:34.087111Z",
     "shell.execute_reply": "2020-09-11T21:16:34.087721Z"
    },
    "papermill": {
     "duration": 10.874814,
     "end_time": "2020-09-11T21:16:34.087897",
     "exception": false,
     "start_time": "2020-09-11T21:16:23.213083",
     "status": "completed"
    },
    "tags": []
   },
   "outputs": [],
   "source": [
    "sub_file = pd.read_csv('/kaggle/input/sentiment-analysis-on-movie-reviews/sampleSubmission.csv',sep=',')\n",
    "sub_file.Sentiment=test_y\n",
    "sub_file.to_csv('Submission.csv',index=False)"
   ]
  },
  {
   "cell_type": "code",
   "execution_count": null,
   "metadata": {
    "papermill": {
     "duration": 10.956242,
     "end_time": "2020-09-11T21:16:55.945349",
     "exception": false,
     "start_time": "2020-09-11T21:16:44.989107",
     "status": "completed"
    },
    "tags": []
   },
   "outputs": [],
   "source": []
  }
 ],
 "metadata": {
  "kernelspec": {
   "display_name": "Python 3",
   "language": "python",
   "name": "python3"
  },
  "language_info": {
   "codemirror_mode": {
    "name": "ipython",
    "version": 3
   },
   "file_extension": ".py",
   "mimetype": "text/x-python",
   "name": "python",
   "nbconvert_exporter": "python",
   "pygments_lexer": "ipython3",
   "version": "3.7.6"
  },
  "papermill": {
   "duration": 2931.542476,
   "end_time": "2020-09-11T21:17:08.036644",
   "environment_variables": {},
   "exception": null,
   "input_path": "__notebook__.ipynb",
   "output_path": "__notebook__.ipynb",
   "parameters": {},
   "start_time": "2020-09-11T20:28:16.494168",
   "version": "2.1.0"
  }
 },
 "nbformat": 4,
 "nbformat_minor": 4
}
